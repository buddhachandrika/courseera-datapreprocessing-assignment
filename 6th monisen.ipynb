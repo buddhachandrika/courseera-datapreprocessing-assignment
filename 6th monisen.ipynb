{
 "cells": [
  {
   "cell_type": "code",
   "execution_count": 44,
   "id": "8bf5b704",
   "metadata": {},
   "outputs": [
    {
     "data": {
      "text/plain": [
       "131071"
      ]
     },
     "execution_count": 44,
     "metadata": {},
     "output_type": "execute_result"
    }
   ],
   "source": [
    "#6th monisen number\n",
    "import math\n",
    "\n",
    "def isprime(n):\n",
    "    for i in range(2,n):\n",
    "        if(n%i == 0):\n",
    "            return False\n",
    "    return True     \n",
    "\n",
    "def monisen(n):\n",
    "    p = 2\n",
    "    while(n>0):\n",
    "        if(isprime(p)):\n",
    "            M = (2**p)-1\n",
    "            if(isprime(M)):\n",
    "                n = n-1\n",
    "        p = p+1\n",
    "\n",
    "    return M  \n",
    "monisen(6)"
   ]
  },
  {
   "cell_type": "code",
   "execution_count": null,
   "id": "a054254e",
   "metadata": {},
   "outputs": [],
   "source": []
  }
 ],
 "metadata": {
  "kernelspec": {
   "display_name": "Python 3",
   "language": "python",
   "name": "python3"
  },
  "language_info": {
   "codemirror_mode": {
    "name": "ipython",
    "version": 3
   },
   "file_extension": ".py",
   "mimetype": "text/x-python",
   "name": "python",
   "nbconvert_exporter": "python",
   "pygments_lexer": "ipython3",
   "version": "3.8.8"
  }
 },
 "nbformat": 4,
 "nbformat_minor": 5
}
